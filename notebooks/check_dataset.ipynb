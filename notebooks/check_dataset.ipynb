{
 "cells": [
  {
   "cell_type": "code",
   "execution_count": null,
   "id": "bc6cd15a",
   "metadata": {},
   "outputs": [],
   "source": [
    "from Data.MowingDetectionDataset_Parcelized import *\n",
    "\n",
    "transforms = A.Compose([\n",
    "        #A.Normalize(mean=[-0.3357, -0.3259],#####how many channels to include?\n",
    "                   # std=[0.4688, 0.4685]),\n",
    "        ToTensorV2()\n",
    "    ])\n",
    "\n",
    "train_dt = ParcelMowingDataset(root_path = root_dataset_path,labels_path = path_train, trsm = transforms,max_lenght_to_pad=48,\n",
    "                nan_free = False,mode = 'pad', interpolate = True,extra_features = True)\n",
    "train_dloader = DataLoader(train_dt, sampler=ImbalancedDatasetSampler(train_dt), \n",
    "                           batch_size=1, shuffle=False, num_workers=0)"
   ]
  },
  {
   "cell_type": "code",
   "execution_count": null,
   "id": "4014c99b",
   "metadata": {},
   "outputs": [],
   "source": [
    "dt, lb = next(iter(train_dloader))\n",
    "print('Data shape is',dt.shape)\n",
    "print('label is', lb)\n",
    "dt"
   ]
  },
  {
   "cell_type": "code",
   "execution_count": null,
   "id": "d311a3c9",
   "metadata": {},
   "outputs": [],
   "source": [
    "###check the tensors in the dataset###\n",
    "import random \n",
    "import matplotlib.pyplot as plt\n",
    "import numpy as np\n",
    "from tqdm import tqdm\n",
    "\n",
    "dataset_len = len(train_dloader)\n",
    " \n",
    "rand_list = []\n",
    "\n",
    "for i in range(0,20):\n",
    "    n = random.randint(0,dataset_len)\n",
    "    rand_list.append(n)\n",
    "\n",
    "tensor_list = []\n",
    "for index,data_holder in enumerate(tqdm(train_dloader)):\n",
    "    if index in rand_list:\n",
    "        \n",
    "        tensor_list.append(data_holder)\n",
    "print('number of saved tensors is',len(tensor_list))\n",
    "print(rand_list)\n",
    "\n",
    "\n",
    "# Convert tensors to numpy arrays and filter out NaN values\n",
    "time_series_np = []\n",
    "for tensor in tensor_list:\n",
    "    tensor_np = tensor[0].numpy()\n",
    "    tensor_np = np.nan_to_num(tensor_np)\n",
    "    time_series_np.append(tensor_np)\n",
    "\n",
    "# Create subplots for each time series\n",
    "num_plots = len(time_series_np)\n",
    "num_rows = num_plots // 2 + (num_plots % 2)\n",
    "fig, axs = plt.subplots(num_rows, 2, figsize=(12, 6*num_rows))\n",
    "\n",
    "# Plot each time series\n",
    "for i, series_np in enumerate(time_series_np):\n",
    "    row = i // 2\n",
    "    col = i % 2\n",
    "    axs[row, col].plot(series_np.squeeze())\n",
    "    axs[row, col].set_title(f\"Time Series {i+1}\")\n",
    "    axs[row, col].set_xlabel(\"Index\")\n",
    "    axs[row, col].set_ylabel(\"Value\")\n",
    "    axs[row, col].grid(True)\n",
    "\n",
    "# Adjust layout\n",
    "plt.tight_layout()\n",
    "plt.show()"
   ]
  },
  {
   "cell_type": "code",
   "execution_count": null,
   "id": "c9464854",
   "metadata": {},
   "outputs": [],
   "source": [
    "import matplotlib.pyplot as plt\n",
    "import numpy as np\n",
    "import torch\n",
    "\n",
    "# Define the tensor\n",
    "tensor = tensor_list[1][0]\n",
    "# Convert tensor to numpy array\n",
    "tensor_np = tensor.numpy()\n",
    "\n",
    "# Filter out NaN values\n",
    "#tensor_np[np.isnan(tensor_np)] = 0\n",
    "\n",
    "# Plot only non-NaN values\n",
    "plt.figure(figsize=(8, 6))\n",
    "plt.plot(tensor_np.squeeze())\n",
    "plt.title(\"Time Serie Sample\")\n",
    "plt.xlabel(\"Index\")\n",
    "plt.ylabel(\"Value\")\n",
    "plt.grid(True)\n",
    "plt.show()\n"
   ]
  }
 ],
 "metadata": {
  "kernelspec": {
   "display_name": "Python 3 (ipykernel)",
   "language": "python",
   "name": "python3"
  },
  "language_info": {
   "codemirror_mode": {
    "name": "ipython",
    "version": 3
   },
   "file_extension": ".py",
   "mimetype": "text/x-python",
   "name": "python",
   "nbconvert_exporter": "python",
   "pygments_lexer": "ipython3",
   "version": "3.10.11"
  }
 },
 "nbformat": 4,
 "nbformat_minor": 5
}
