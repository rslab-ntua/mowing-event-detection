{
 "cells": [
  {
   "cell_type": "code",
   "execution_count": null,
   "id": "ae604467",
   "metadata": {},
   "outputs": [],
   "source": [
    "import math\n",
    "from torch import nn\n",
    "import torch\n",
    "import torch.nn.functional as F\n",
    "import pytorch_lightning as pl\n",
    "from torchmetrics import Accuracy, ConfusionMatrix, F1Score, Recall, Precision\n",
    "import torchinfo\n",
    "import os\n",
    "from settings import *\n",
    "from Data.MowingDetectionDataset_Parcelized import *\n",
    "from System.pos_enc import *\n",
    "from System.Engine import *\n",
    "from helpers.various import *"
   ]
  },
  {
   "cell_type": "code",
   "execution_count": null,
   "id": "cc14e352",
   "metadata": {},
   "outputs": [],
   "source": [
    "transforms = A.Compose([\n",
    "        #A.Normalize(mean=[-0.3357, -0.3259],#####how many channels to include?\n",
    "                   # std=[0.4688, 0.4685]),\n",
    "        ToTensorV2()\n",
    "    ])"
   ]
  },
  {
   "cell_type": "code",
   "execution_count": null,
   "id": "b8e36b0c",
   "metadata": {},
   "outputs": [],
   "source": [
    "train_dt = ParcelMowingDataset(root_path = root_dataset_path,labels_path = path_train, trsm = transforms,max_lenght_to_pad=50,\n",
    "                nan_free = True,concat_mask = False,mode = 'pad')\n",
    "train_dloader = DataLoader(train_dt, sampler=ImbalancedDatasetSampler(train_dt), \n",
    "                           batch_size=train_batch, collate_fn = collate_fn, \n",
    "                           shuffle=False, num_workers=0)"
   ]
  },
  {
   "cell_type": "code",
   "execution_count": null,
   "id": "336b5038",
   "metadata": {},
   "outputs": [],
   "source": [
    "val_dt = ParcelMowingDataset(root_dataset_path,labels_path = path_val, trsm = transforms, max_lenght_to_pad=50,\n",
    "                nan_free = True,concat_mask = False,mode = 'pad')\n",
    "val_dloader = DataLoader(val_dt, batch_size=val_batch, shuffle=False, num_workers=0)"
   ]
  },
  {
   "cell_type": "code",
   "execution_count": null,
   "id": "469055ce",
   "metadata": {},
   "outputs": [],
   "source": [
    "test_dt = ParcelMowingDataset(root_dataset_path,labels_path = path_test, trsm = transforms, max_lenght_to_pad=50,\n",
    "                nan_free = True,concat_mask = False,mode = 'pad')\n",
    "test_dloader = DataLoader(test_dt, batch_size=test_batch, shuffle=False, num_workers=0)"
   ]
  },
  {
   "cell_type": "code",
   "execution_count": null,
   "id": "cc5d83db",
   "metadata": {},
   "outputs": [],
   "source": [
    "from pytorch_lightning.callbacks.early_stopping import EarlyStopping\n",
    "from pytorch_lightning.callbacks.model_checkpoint import ModelCheckpoint\n",
    "from pytorch_lightning.callbacks.progress import TQDMProgressBar\n",
    "from pytorch_lightning.callbacks import LearningRateMonitor\n",
    "from pytorch_lightning.tuner.tuning import Tuner\n",
    "\n",
    "\n",
    "callbacks = [\n",
    "    EarlyStopping(monitor=\"accuracy_m/val\", mode=\"max\", patience=100),\n",
    "    ModelCheckpoint(monitor=\"accuracy_m/val\", mode=\"max\", save_last=True),\n",
    "    LearningRateMonitor(logging_interval='epoch'),\n",
    "]\n",
    "\n",
    "model = Model()\n",
    "trainer = pl.Trainer(\n",
    "    accelerator=\"gpu\", \n",
    "    devices=1,\n",
    "    max_epochs=number_of_epochs,\n",
    "    callbacks=callbacks,\n",
    "    default_root_dir=save_dir,\n",
    "    enable_progress_bar = False,\n",
    "    #detect_anomaly=True,\n",
    ")\n",
    "\n",
    "trainer.fit(model, train_dataloaders=train_dloader, val_dataloaders=val_dloader)"
   ]
  },
  {
   "cell_type": "code",
   "execution_count": null,
   "id": "d43736db",
   "metadata": {},
   "outputs": [],
   "source": [
    "best_model = Model.load_from_checkpoint('./epoch=22-step=2921.ckpt')\n",
    "trainer = pl.Trainer(accelerator=\"gpu\", \n",
    "    devices=1)\n",
    "trainer.test(best_model, dataloaders=test_dloader)"
   ]
  },
  {
   "cell_type": "code",
   "execution_count": null,
   "id": "77ca2164",
   "metadata": {},
   "outputs": [],
   "source": [
    "#####to do!!!!####\n",
    "from sklearn.metrics import ConfusionMatrixDisplay\n",
    "from matplotlib import pyplot as plt\n",
    "\n",
    "\n",
    "class_labels = ['0 times', '1 times','2 times', '3 times', '4 times']\n",
    "cm = best_model.test_confusion_matrix.compute().cpu().numpy()\n",
    "\n",
    "disp = ConfusionMatrixDisplay(confusion_matrix=cm,\n",
    "                              display_labels=class_labels )\n",
    "plt.figure(figsize=(5,5), dpi=100)\n",
    "ax = plt.axes()\n",
    "\n",
    "disp.plot(ax=ax)\n",
    "plt.xticks(rotation=90)\n",
    "plt.show()"
   ]
  },
  {
   "cell_type": "code",
   "execution_count": null,
   "id": "e220a3f5",
   "metadata": {},
   "outputs": [],
   "source": []
  }
 ],
 "metadata": {
  "kernelspec": {
   "display_name": "Python 3 (ipykernel)",
   "language": "python",
   "name": "python3"
  },
  "language_info": {
   "codemirror_mode": {
    "name": "ipython",
    "version": 3
   },
   "file_extension": ".py",
   "mimetype": "text/x-python",
   "name": "python",
   "nbconvert_exporter": "python",
   "pygments_lexer": "ipython3",
   "version": "3.10.11"
  }
 },
 "nbformat": 4,
 "nbformat_minor": 5
}
