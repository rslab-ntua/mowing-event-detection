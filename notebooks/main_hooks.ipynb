{
 "cells": [
  {
   "cell_type": "code",
   "execution_count": null,
   "id": "ae604467",
   "metadata": {},
   "outputs": [],
   "source": [
    "import math\n",
    "import torchinfo\n",
    "import os\n",
    "import torch\n",
    "import torch.nn.functional as F\n",
    "import pytorch_lightning as pl\n",
    "import copy\n",
    "\n",
    "\n",
    "\n",
    "from torch import nn\n",
    "from System.pos_enc import *\n",
    "from torch.optim.lr_scheduler import StepLR\n",
    "from Data.MowingDetectionDataset_Parcelized import *\n",
    "from System.pos_enc import *\n",
    "from System.Engine import *\n",
    "#from System.Engine_Tr import *\n",
    "from helpers.various import *\n",
    "from torchmetrics import Accuracy, ConfusionMatrix, F1Score, Recall, Precision\n",
    "from torchinfo import summary\n",
    "\n",
    "\n",
    "transforms = A.Compose([\n",
    "        #A.Normalize(mean=[-0.3357, -0.3259],#####how many channels to include?\n",
    "                   # std=[0.4688, 0.4685]),\n",
    "        ToTensorV2()\n",
    "    ])\n",
    "\n",
    "\n",
    "\n",
    "\n",
    "###padding is used because there is the possibility to have nan at the ts start###\n",
    "###also the argument nan_free is passed to interpolate the ts###\n",
    "train_dt = ParcelMowingDataset(root_path = root_dataset_path,labels_path = path_train, trsm = transforms,max_lenght_to_pad=48,\n",
    "                nan_free = False,mode = 'pad', interpolate = True,extra_features = True)\n",
    "train_dloader = DataLoader(train_dt, sampler=ImbalancedDatasetSampler(train_dt), \n",
    "                           batch_size=1, shuffle=False, num_workers=0)\n",
    "\n",
    "val_dt = ParcelMowingDataset(root_dataset_path,labels_path = path_val, trsm = transforms, max_lenght_to_pad=48,\n",
    "                nan_free = False,mode = 'pad', interpolate = True,extra_features = True)\n",
    "val_dloader = DataLoader(val_dt, batch_size=1, shuffle=False, num_workers=0)\n",
    "\n",
    "test_dt = ParcelMowingDataset(root_dataset_path,labels_path = path_test, trsm = transforms, max_lenght_to_pad=48,\n",
    "                nan_free = False,mode = 'pad', interpolate = True,extra_features = True)\n",
    "test_dloader = DataLoader(test_dt, batch_size=1, shuffle=False, num_workers=0)"
   ]
  },
  {
   "cell_type": "code",
   "execution_count": null,
   "id": "7603c307",
   "metadata": {},
   "outputs": [],
   "source": [
    "dt, lbl = next(iter(test_dloader))\n",
    "print(dt.shape)\n",
    "print(lbl)"
   ]
  },
  {
   "cell_type": "code",
   "execution_count": null,
   "id": "2f9aa39f",
   "metadata": {},
   "outputs": [],
   "source": [
    "class SaveOutput:\n",
    "    def __init__(self):\n",
    "        self.outputs = []\n",
    "        \n",
    "    def __call__(self, module, module_in, module_out):\n",
    "        self.outputs.append(module_out)\n",
    "        \n",
    "    def clear(self):\n",
    "        self.outputs = []\n",
    "        \n",
    "        \n",
    "        \n",
    "import torch.nn.functional as F\n",
    "import matplotlib.pyplot as plt\n",
    "def module_output_to_numpy(tensor):\n",
    "    # Apply softmax to dimension 1\n",
    "    tensor_softmax = F.softmax(tensor, dim=1)\n",
    "    # Convert tensor to numpy array\n",
    "    return tensor_softmax.squeeze().detach().to('cpu').numpy()\n"
   ]
  },
  {
   "cell_type": "code",
   "execution_count": null,
   "id": "b0c3f475",
   "metadata": {},
   "outputs": [],
   "source": []
  },
  {
   "cell_type": "code",
   "execution_count": null,
   "id": "109c0523",
   "metadata": {},
   "outputs": [],
   "source": [
    "model = resnet()\n",
    "save_output = SaveOutput()\n",
    "hook_handles = []\n",
    "for layer in model.modules():\n",
    "    #print(layer)\n",
    "    if isinstance(layer, torch.nn.Conv1d):\n",
    "        handle = layer.register_forward_hook(save_output)\n",
    "        hook_handles.append(handle)\n",
    "        print('ok')\n",
    "        \n",
    "len(save_output.outputs)\n",
    "model(dt)\n",
    "\n",
    "len(save_output.outputs)\n",
    "for out in save_output.outputs:\n",
    "    print(out.squeeze().shape)"
   ]
  },
  {
   "cell_type": "code",
   "execution_count": null,
   "id": "d43736db",
   "metadata": {},
   "outputs": [],
   "source": [
    "best_model = ECGTRMODEL.load_from_checkpoint('./checkpoints/finetuned_models_hooks/lightning_logs/version_8/checkpoints/epoch=91-step=2882.ckpt')\n",
    "trainer = pl.Trainer(accelerator=\"cpu\", \n",
    "    devices=1)\n",
    "trainer.test(best_model, dataloaders=test_dloader)"
   ]
  },
  {
   "cell_type": "code",
   "execution_count": null,
   "id": "77ca2164",
   "metadata": {},
   "outputs": [],
   "source": [
    "#####to do!!!!####\n",
    "from sklearn.metrics import ConfusionMatrixDisplay\n",
    "from matplotlib import pyplot as plt\n",
    "\n",
    "\n",
    "class_labels = ['0 times', '1 times','2 times', '3 times', '4 times']\n",
    "cm = best_model.test_confusion_matrix.compute().cpu().numpy()\n",
    "\n",
    "disp = ConfusionMatrixDisplay(confusion_matrix=cm,\n",
    "                              display_labels=class_labels )\n",
    "plt.figure(figsize=(5,5), dpi=100)\n",
    "ax = plt.axes()\n",
    "\n",
    "disp.plot(ax=ax)\n",
    "plt.xticks(rotation=90)\n",
    "plt.show()"
   ]
  },
  {
   "cell_type": "code",
   "execution_count": null,
   "id": "9d441016",
   "metadata": {},
   "outputs": [],
   "source": [
    "data_list = []\n",
    "for dh in test_dloader:\n",
    "    data_list.append(dh)\n",
    "print(len(data_list))"
   ]
  },
  {
   "cell_type": "code",
   "execution_count": null,
   "id": "e220a3f5",
   "metadata": {},
   "outputs": [],
   "source": [
    "del save_output\n",
    "save_output = SaveOutput()\n",
    "\n",
    "hook_handles = []\n",
    "\n",
    "for layer in best_model.modules():\n",
    "    print(layer)\n",
    "    if isinstance(layer, torch.nn.Conv1d):\n",
    "        handle = layer.register_forward_hook(save_output)\n",
    "        hook_handles.append(handle)\n",
    "        print('placed hook in layer', layer)\n",
    "\n",
    "len(save_output.outputs)\n",
    "dt, lbl = data_list[31]\n",
    "print(dt.shape)\n",
    "print(lbl)\n",
    "with torch.no_grad():\n",
    "    y = best_model(dt)\n",
    "print('Pred',torch.argmax(y), 'GT',lbl)"
   ]
  },
  {
   "cell_type": "code",
   "execution_count": null,
   "id": "e4bf4a94",
   "metadata": {},
   "outputs": [],
   "source": [
    "len(save_output.outputs)\n",
    "for i in save_output.outputs:\n",
    "    print(i)\n",
    "    break"
   ]
  },
  {
   "cell_type": "code",
   "execution_count": null,
   "id": "ed2e5cd8",
   "metadata": {},
   "outputs": [],
   "source": [
    "for out in save_output.outputs:\n",
    "    print(out.squeeze().shape)"
   ]
  },
  {
   "cell_type": "code",
   "execution_count": null,
   "id": "eead1c8e",
   "metadata": {},
   "outputs": [],
   "source": [
    "tensor_2 = module_output_to_numpy(save_output.outputs[0])\n",
    "tensor_4 = module_output_to_numpy(save_output.outputs[1])\n",
    "\n",
    "tensor_4.shape\n",
    "t2_matmult_4 = np.inner(tensor_2,tensor_4)\n",
    "plt.imshow(t2_matmult_4.T)\n",
    "print(t2_matmult_4.shape)"
   ]
  },
  {
   "cell_type": "code",
   "execution_count": null,
   "id": "568f27dd",
   "metadata": {},
   "outputs": [],
   "source": []
  },
  {
   "cell_type": "code",
   "execution_count": null,
   "id": "419cd53a",
   "metadata": {},
   "outputs": [],
   "source": [
    "tensor_x = module_output_to_numpy(save_output.outputs[3])\n",
    "plt.imshow(tensor_x.T)"
   ]
  },
  {
   "cell_type": "code",
   "execution_count": null,
   "id": "c12ee592",
   "metadata": {},
   "outputs": [],
   "source": [
    "tensor_5 = module_output_to_numpy(save_output.outputs[3])\n",
    "tensor_6 = module_output_to_numpy(save_output.outputs[4])\n",
    "t5_matmult_6 = np.inner(tensor_5,tensor_6)\n",
    "plt.imshow(t5_matmult_6)"
   ]
  },
  {
   "cell_type": "code",
   "execution_count": null,
   "id": "16363ef3",
   "metadata": {},
   "outputs": [],
   "source": []
  },
  {
   "cell_type": "code",
   "execution_count": null,
   "id": "c37493f5",
   "metadata": {},
   "outputs": [],
   "source": [
    "for item in data_list:\n",
    "    #print(item[1])\n",
    "\n",
    "    with torch.no_grad():\n",
    "        y = best_model(item[0])\n",
    "        print(y)\n",
    "    print('Pred',torch.argmax(y), 'GT',item[1])"
   ]
  },
  {
   "cell_type": "code",
   "execution_count": null,
   "id": "2835d758",
   "metadata": {},
   "outputs": [],
   "source": [
    "import matplotlib.pyplot as plt\n",
    "import numpy as np\n",
    "import torch\n",
    "\n",
    "# Define the tensor\n",
    "tensor = dt\n",
    "# Convert tensor to numpy array\n",
    "tensor_np = tensor.numpy()\n",
    "\n",
    "# Filter out NaN values\n",
    "tensor_np[np.isnan(tensor_np)] = 0\n",
    "\n",
    "# Plot only non-NaN values\n",
    "plt.figure(figsize=(8, 6))\n",
    "plt.plot(tensor_np.squeeze())\n",
    "plt.title(\"Time Serie Sample\")\n",
    "plt.xlabel(\"Index\")\n",
    "plt.ylabel(\"Value\")\n",
    "plt.grid(True)\n",
    "plt.show()\n"
   ]
  },
  {
   "cell_type": "code",
   "execution_count": null,
   "id": "70364f8d",
   "metadata": {},
   "outputs": [],
   "source": []
  }
 ],
 "metadata": {
  "kernelspec": {
   "display_name": "Python 3 (ipykernel)",
   "language": "python",
   "name": "python3"
  },
  "language_info": {
   "codemirror_mode": {
    "name": "ipython",
    "version": 3
   },
   "file_extension": ".py",
   "mimetype": "text/x-python",
   "name": "python",
   "nbconvert_exporter": "python",
   "pygments_lexer": "ipython3",
   "version": "3.10.11"
  }
 },
 "nbformat": 4,
 "nbformat_minor": 5
}
