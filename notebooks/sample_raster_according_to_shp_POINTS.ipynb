{
 "cells": [
  {
   "cell_type": "code",
   "execution_count": null,
   "id": "effec0ff",
   "metadata": {},
   "outputs": [],
   "source": [
    "###test###\n",
    "import geopandas as gpd\n",
    "import rasterio\n",
    "\n",
    "shapefile_path = '/content/points_area_b_4_times.shp'\n",
    "\n",
    "gdf = gpd.read_file(shapefile_path)\n",
    "\n",
    "src = rasterio.open('/content/area_b_4_times_NDVI.tif')\n",
    "\n",
    "from rasterio.plot import show\n",
    "\n",
    "fig, ax = plt.subplots()\n",
    "\n",
    "extent = [src.bounds[0], src.bounds[2], src.bounds[1], src.bounds[3]]\n",
    "ax = rasterio.plot.show(src, extent=extent, ax=ax, cmap=\"pink\")\n",
    "\n",
    "gdf.plot(ax=ax)\n",
    "\n",
    "\n",
    "coord_list = [(x, y) for x, y in zip(gdf[\"geometry\"].x, gdf[\"geometry\"].y)]\n",
    "\n",
    "gdf[\"value\"] = [x for x in src.sample(coord_list)]\n",
    "gdf.head()"
   ]
  }
 ],
 "metadata": {
  "kernelspec": {
   "display_name": "Python 3 (ipykernel)",
   "language": "python",
   "name": "python3"
  },
  "language_info": {
   "codemirror_mode": {
    "name": "ipython",
    "version": 3
   },
   "file_extension": ".py",
   "mimetype": "text/x-python",
   "name": "python",
   "nbconvert_exporter": "python",
   "pygments_lexer": "ipython3",
   "version": "3.10.11"
  }
 },
 "nbformat": 4,
 "nbformat_minor": 5
}
